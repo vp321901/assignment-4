{
 "cells": [
  {
   "cell_type": "code",
   "execution_count": 1,
   "id": "d31aa9bd-764e-4a22-8ab0-e792399f6578",
   "metadata": {},
   "outputs": [],
   "source": [
    "        #Answer 1"
   ]
  },
  {
   "cell_type": "code",
   "execution_count": 18,
   "id": "02a51bc6-d534-4f2f-be99-7210276d835e",
   "metadata": {},
   "outputs": [
    {
     "name": "stdout",
     "output_type": "stream",
     "text": [
      "('Virat Kohli', 24936)\n",
      "('Jack Kallis', 25534)\n",
      "('Ricky Ponting', 27483)\n",
      "('Sachin Tendulkar', 34357)\n"
     ]
    }
   ],
   "source": [
    "l = [('Sachin Tendulkar', 34357), ('Ricky Ponting', 27483), ('Jack Kallis', 25534), ('Virat Kohli', 24936)]\n",
    "\n",
    "sort = sorted(l, key=lambda x: x[1])\n",
    "\n",
    "for item in sort:\n",
    "    print(item)\n"
   ]
  },
  {
   "cell_type": "code",
   "execution_count": 25,
   "id": "795e2ad9-e12a-4a4d-94c9-39092539da68",
   "metadata": {},
   "outputs": [],
   "source": [
    "         #Answer 2"
   ]
  },
  {
   "cell_type": "code",
   "execution_count": 26,
   "id": "50af9820-6065-4562-b7eb-369b40918e63",
   "metadata": {},
   "outputs": [
    {
     "name": "stdout",
     "output_type": "stream",
     "text": [
      "[1, 4, 9, 16, 25, 36, 49, 64, 81, 100]\n"
     ]
    }
   ],
   "source": [
    "l1 = [1, 2, 3, 4, 5, 6, 7, 8, 9, 10]\n",
    "square = list(map(lambda x:x**2 , l1))\n",
    "print(square)"
   ]
  },
  {
   "cell_type": "code",
   "execution_count": 38,
   "id": "8851cd63-27f7-4d71-878c-67e162efd344",
   "metadata": {},
   "outputs": [],
   "source": [
    "        #Answer 3"
   ]
  },
  {
   "cell_type": "code",
   "execution_count": 39,
   "id": "eba32f13-8d8f-46d1-bb25-e6294c6f6826",
   "metadata": {},
   "outputs": [
    {
     "name": "stdout",
     "output_type": "stream",
     "text": [
      "('1', '2', '3', '4', '5', '6', '7', '8', '9', '10')\n"
     ]
    }
   ],
   "source": [
    "l = [1, 2, 3, 4, 5, 6, 7, 8, 9, 10]\n",
    "vipul = list(map(lambda x : str(x) , l))\n",
    "print(tuple(vipul))\n"
   ]
  },
  {
   "cell_type": "code",
   "execution_count": 40,
   "id": "32c1035d-7496-47fc-8eaf-990305974884",
   "metadata": {},
   "outputs": [],
   "source": [
    "       #Answer 4"
   ]
  },
  {
   "cell_type": "code",
   "execution_count": 52,
   "id": "29878577-5910-4f4a-9568-aa22c19a5d29",
   "metadata": {},
   "outputs": [
    {
     "name": "stdout",
     "output_type": "stream",
     "text": [
      "product  of the list from 1 to 25 is :15511210043330985984000000\n"
     ]
    }
   ],
   "source": [
    "import functools\n",
    "l =list(range(1,26))\n",
    "print(\"product  of the list from 1 to 25 is :\"  ,end=\"\" )\n",
    "print(functools.reduce(lambda x,y : x*y , l))"
   ]
  },
  {
   "cell_type": "code",
   "execution_count": 55,
   "id": "edae6a18-54c7-4988-904a-aedd0e37a647",
   "metadata": {},
   "outputs": [],
   "source": [
    "     #Answer 5"
   ]
  },
  {
   "cell_type": "code",
   "execution_count": 65,
   "id": "31b4a8ea-ea3c-40bd-9e66-af4aba95fd7b",
   "metadata": {},
   "outputs": [
    {
     "name": "stdout",
     "output_type": "stream",
     "text": [
      "[6, 60, 90, 120]\n"
     ]
    }
   ],
   "source": [
    "l = [2, 3, 6, 9, 27, 60, 90, 120, 55, 46]\n",
    "\n",
    "filtered_number = list(filter(lambda x:x%2==0 and x%3==0 , l))\n",
    "print(filtered_number)"
   ]
  },
  {
   "cell_type": "code",
   "execution_count": 66,
   "id": "afb65f1a-ad43-40d6-a90d-1a7e07873103",
   "metadata": {},
   "outputs": [],
   "source": [
    "    #Answer 6"
   ]
  },
  {
   "cell_type": "code",
   "execution_count": 67,
   "id": "561eb6ca-e5aa-4c81-8363-257b23963053",
   "metadata": {},
   "outputs": [
    {
     "name": "stdout",
     "output_type": "stream",
     "text": [
      "['php', 'aba', 'radar', 'level']\n"
     ]
    }
   ],
   "source": [
    "l = ['python', 'php', 'aba', 'radar', 'level']\n",
    "\n",
    "palindromes = list(filter(lambda x: x == x[::-1], l))\n",
    "\n",
    "print(palindromes)\n"
   ]
  },
  {
   "cell_type": "code",
   "execution_count": null,
   "id": "bae7b351-84d9-40a9-ad1c-bcde11f21cc5",
   "metadata": {},
   "outputs": [],
   "source": []
  }
 ],
 "metadata": {
  "kernelspec": {
   "display_name": "Python 3 (ipykernel)",
   "language": "python",
   "name": "python3"
  },
  "language_info": {
   "codemirror_mode": {
    "name": "ipython",
    "version": 3
   },
   "file_extension": ".py",
   "mimetype": "text/x-python",
   "name": "python",
   "nbconvert_exporter": "python",
   "pygments_lexer": "ipython3",
   "version": "3.10.8"
  }
 },
 "nbformat": 4,
 "nbformat_minor": 5
}
